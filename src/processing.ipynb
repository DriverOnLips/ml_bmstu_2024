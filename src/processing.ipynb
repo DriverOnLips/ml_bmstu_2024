{
 "cells": [
  {
   "cell_type": "markdown",
   "metadata": {},
   "source": [
    "# Подготовка обучающей и тестовой выборки, кросс-валидация и подбор гиперпараметров на примере метода ближайших соседей"
   ]
  },
  {
   "cell_type": "markdown",
   "metadata": {},
   "source": [
    "## Описание датасета\n",
    "\n",
    "Датасет содержит информацию о результатах гонщиков Формулы 1.\n",
    "\n",
    "Каждая запись в таблице содержит информацио о:\n",
    "- имени пилота\n",
    "- национальности пилота\n",
    "- количестве чемпионских титулов\n",
    "- количестве гонок\n",
    "- количестве поул-позиций\n",
    "- количестве побед в гонках\n",
    "- количестве подиумов\n",
    "- количестве быстрых кругов\n",
    "- суммарном количестве очков\n",
    "- проценте побед\n",
    "- количестве лет выступления\n",
    "- наличии статуса чемпиона"
   ]
  },
  {
   "cell_type": "markdown",
   "metadata": {},
   "source": [
    "## Обработка датасета"
   ]
  },
  {
   "cell_type": "code",
   "execution_count": 3,
   "metadata": {},
   "outputs": [],
   "source": [
    "import numpy as np\n",
    "import pandas as pd\n",
    "import seaborn as sns\n",
    "import matplotlib.pyplot as plt\n",
    "%matplotlib inline \n",
    "sns.set(style=\"ticks\")"
   ]
  },
  {
   "cell_type": "code",
   "execution_count": 4,
   "metadata": {},
   "outputs": [
    {
     "name": "stdout",
     "output_type": "stream",
     "text": [
      "                Driver     Nationality  Championships  Race_Entries  \\\n",
      "0          Carlo Abate           Italy            0.0           3.0   \n",
      "1     George Abecassis  United Kingdom            0.0           2.0   \n",
      "2        Kenny Acheson  United Kingdom            0.0          10.0   \n",
      "3    Andrea de Adamich           Italy            0.0          36.0   \n",
      "4       Philippe Adams         Belgium            0.0           2.0   \n",
      "..                 ...             ...            ...           ...   \n",
      "863      Emilio Zapico           Spain            0.0           1.0   \n",
      "864        Zhou Guanyu           China            0.0          23.0   \n",
      "865      Ricardo Zonta          Brazil            0.0          37.0   \n",
      "866        Renzo Zorzi           Italy            0.0           7.0   \n",
      "867     Ricardo Zunino       Argentina            0.0          11.0   \n",
      "\n",
      "     Pole_Positions  Race_Wins  Podiums  Fastest_Laps  Points  Active  Decade  \\\n",
      "0               0.0        0.0      0.0           0.0     0.0   False    1960   \n",
      "1               0.0        0.0      0.0           0.0     0.0   False    1950   \n",
      "2               0.0        0.0      0.0           0.0     0.0   False    1980   \n",
      "3               0.0        0.0      0.0           0.0     6.0   False    1970   \n",
      "4               0.0        0.0      0.0           0.0     0.0   False    1990   \n",
      "..              ...        ...      ...           ...     ...     ...     ...   \n",
      "863             0.0        0.0      0.0           0.0     0.0   False    1980   \n",
      "864             0.0        0.0      0.0           2.0     6.0    True    2020   \n",
      "865             0.0        0.0      0.0           0.0     3.0   False    2000   \n",
      "866             0.0        0.0      0.0           0.0     1.0   False    1980   \n",
      "867             0.0        0.0      0.0           0.0     0.0   False    1980   \n",
      "\n",
      "     Win_Rate  Years_Active  Champion  \n",
      "0         0.0             2     False  \n",
      "1         0.0             2     False  \n",
      "2         0.0             2     False  \n",
      "3         0.0             5     False  \n",
      "4         0.0             1     False  \n",
      "..        ...           ...       ...  \n",
      "863       0.0             1     False  \n",
      "864       0.0             1     False  \n",
      "865       0.0             5     False  \n",
      "866       0.0             3     False  \n",
      "867       0.0             3     False  \n",
      "\n",
      "[868 rows x 14 columns]\n"
     ]
    }
   ],
   "source": [
    "data = pd.read_excel('./data/F1Drivers_Dataset.xlsx')\n",
    "\n",
    "print(data)"
   ]
  },
  {
   "cell_type": "markdown",
   "metadata": {},
   "source": [
    "### Удаление пропусков в данных"
   ]
  },
  {
   "cell_type": "markdown",
   "metadata": {},
   "source": [
    "### Кодирование категориальных признаков"
   ]
  },
  {
   "cell_type": "markdown",
   "metadata": {},
   "source": [
    "## Работа с датасетом"
   ]
  },
  {
   "cell_type": "markdown",
   "metadata": {},
   "source": [
    "### Разделение выборки на обучающую и тестовую"
   ]
  },
  {
   "cell_type": "markdown",
   "metadata": {},
   "source": [
    "### Обучение модели"
   ]
  }
 ],
 "metadata": {
  "kernelspec": {
   "display_name": "Python 3",
   "language": "python",
   "name": "python3"
  },
  "language_info": {
   "codemirror_mode": {
    "name": "ipython",
    "version": 3
   },
   "file_extension": ".py",
   "mimetype": "text/x-python",
   "name": "python",
   "nbconvert_exporter": "python",
   "pygments_lexer": "ipython3",
   "version": "3.10.12"
  }
 },
 "nbformat": 4,
 "nbformat_minor": 2
}
