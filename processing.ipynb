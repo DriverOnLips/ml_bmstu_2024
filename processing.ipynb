{
 "cells": [
  {
   "cell_type": "markdown",
   "metadata": {},
   "source": [
    "# Разведочный анализ данных. Исследование и визуализация данных."
   ]
  },
  {
   "cell_type": "markdown",
   "metadata": {},
   "source": [
    "## 1) Текстовое описание набора данных"
   ]
  },
  {
   "cell_type": "markdown",
   "metadata": {},
   "source": [
    "# Импорт библиотек\n",
    "Импортируем библиотеки с помощью команды import. Как правило, все команды import размещают в первой ячейке ноутбука, но мы в этом примере будем подключать все библиотеки последовательно, по мере их использования.\n",
    "\n"
   ]
  },
  {
   "cell_type": "code",
   "execution_count": 28,
   "metadata": {},
   "outputs": [],
   "source": [
    "import numpy as np\n",
    "import pandas as pd\n",
    "import seaborn as sns\n",
    "import matplotlib.pyplot as plt\n",
    "%matplotlib inline \n",
    "sns.set(style=\"ticks\")"
   ]
  },
  {
   "cell_type": "code",
   "execution_count": 29,
   "metadata": {},
   "outputs": [],
   "source": [
    "def load_data():\n",
    "  data = pd.read_excel('./data/dataset.xlsx')\n",
    "  return data"
   ]
  },
  {
   "cell_type": "code",
   "execution_count": 30,
   "metadata": {},
   "outputs": [],
   "source": [
    "def basic_specs(data):\n",
    "  print(data.head())"
   ]
  },
  {
   "cell_type": "code",
   "execution_count": 31,
   "metadata": {},
   "outputs": [],
   "source": [
    "def main():\n",
    "  data = load_data()\n",
    "  basic_specs(data)"
   ]
  },
  {
   "cell_type": "code",
   "execution_count": 32,
   "metadata": {},
   "outputs": [
    {
     "name": "stdout",
     "output_type": "stream",
     "text": [
      "                                               Title  Selling_Price  \\\n",
      "0  (Refurbished) Ptron Twinspro Bluetooth Headset...            NaN   \n",
      "1  (Refurbished) Ptron Twinspro Bluetooth Headset...            NaN   \n",
      "2  boAt Rockerz 333ANC with Crystal Bionic Sound,...         4990.0   \n",
      "3  boAt Rockerz 333ANC with Crystal Bionic Sound,...         4990.0   \n",
      "4  boAt Rockerz 333ANC with Crystal Bionic Sound,...         4990.0   \n",
      "\n",
      "   Production_Price          Brand           Model         Colour Form_Factor  \\\n",
      "0               NaN  (Refurbished)        Twinspro          Black      In Ear   \n",
      "1               NaN  (Refurbished)        Twinspro          Black      In Ear   \n",
      "2            1999.0           boAt  Rockerz 333ANC      Moon Grey      In Ear   \n",
      "3            1999.0           boAt  Rockerz 333ANC      Moon Grey      In Ear   \n",
      "4            1999.0           boAt  Rockerz 333ANC  Stellar Black      In Ear   \n",
      "\n",
      "  Connectivity_Type  \n",
      "0         Bluetooth  \n",
      "1         Bluetooth  \n",
      "2         Bluetooth  \n",
      "3         Bluetooth  \n",
      "4         Bluetooth  \n"
     ]
    }
   ],
   "source": [
    "if __name__ == '__main__':\n",
    "  main()"
   ]
  }
 ],
 "metadata": {
  "kernelspec": {
   "display_name": "Python 3",
   "language": "python",
   "name": "python3"
  },
  "language_info": {
   "codemirror_mode": {
    "name": "ipython",
    "version": 3
   },
   "file_extension": ".py",
   "mimetype": "text/x-python",
   "name": "python",
   "nbconvert_exporter": "python",
   "pygments_lexer": "ipython3",
   "version": "3.10.12"
  }
 },
 "nbformat": 4,
 "nbformat_minor": 2
}
